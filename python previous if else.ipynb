{
 "cells": [
  {
   "cell_type": "code",
   "execution_count": 6,
   "id": "e8352487",
   "metadata": {},
   "outputs": [],
   "source": [
    "a =10\n"
   ]
  },
  {
   "cell_type": "code",
   "execution_count": 9,
   "id": "246c739a",
   "metadata": {},
   "outputs": [
    {
     "data": {
      "text/plain": [
       "True"
      ]
     },
     "execution_count": 9,
     "metadata": {},
     "output_type": "execute_result"
    }
   ],
   "source": [
    "a<15\n"
   ]
  },
  {
   "cell_type": "code",
   "execution_count": 10,
   "id": "50074103",
   "metadata": {},
   "outputs": [
    {
     "name": "stdout",
     "output_type": "stream",
     "text": [
      "my name is  sushant\n"
     ]
    }
   ],
   "source": [
    "if a < 15:\n",
    "    \n",
    "    print(\"my name is  sushant\")"
   ]
  },
  {
   "cell_type": "code",
   "execution_count": 12,
   "id": "40ac9ed0",
   "metadata": {},
   "outputs": [],
   "source": [
    "if a < 15:\n",
    "    pass"
   ]
  },
  {
   "cell_type": "code",
   "execution_count": 13,
   "id": "9def9ba8",
   "metadata": {},
   "outputs": [],
   "source": [
    "if 24 < 15:\n",
    "    \n",
    "    print(\"my name is  sushant\")"
   ]
  },
  {
   "cell_type": "code",
   "execution_count": 14,
   "id": "b1d6ceaa",
   "metadata": {},
   "outputs": [
    {
     "data": {
      "text/plain": [
       "False"
      ]
     },
     "execution_count": 14,
     "metadata": {},
     "output_type": "execute_result"
    }
   ],
   "source": [
    "24<15"
   ]
  },
  {
   "cell_type": "code",
   "execution_count": 17,
   "id": "b162011f",
   "metadata": {},
   "outputs": [
    {
     "name": "stdout",
     "output_type": "stream",
     "text": [
      " 10 is lesser than 3\n"
     ]
    }
   ],
   "source": [
    "if  5 <10:\n",
    "    print(\" 10 is lesser than 3\")\n",
    "else:\n",
    "    print(\"if statement is wrong\")"
   ]
  },
  {
   "cell_type": "markdown",
   "id": "56f46535",
   "metadata": {},
   "source": []
  },
  {
   "cell_type": "code",
   "execution_count": 24,
   "id": "9e80dd15",
   "metadata": {},
   "outputs": [
    {
     "name": "stdout",
     "output_type": "stream",
     "text": [
      "10\n",
      "i will be able to buy phone\n"
     ]
    }
   ],
   "source": [
    " income = int(input())\n",
    "if income < 50:\n",
    "        print(\"i will be able to buy phone\")\n",
    "elif  income < 70:\n",
    "    print(\"i will buy a car\")\n",
    "elif income <90 :\n",
    "    print(\"I will be able to rent a house\")\n",
    "else:\n",
    "        print(\"I wont be able to buy anything\")"
   ]
  },
  {
   "cell_type": "code",
   "execution_count": 29,
   "id": "d106aca5",
   "metadata": {},
   "outputs": [
    {
     "name": "stdout",
     "output_type": "stream",
     "text": [
      "4565\n",
      "discount will be 228.25\n"
     ]
    }
   ],
   "source": [
    "total_price = int(input())\n",
    "if total_price > 20000 :\n",
    "    discount = total_price*0.20\n",
    "    print(\"Discount will be\",discount)\n",
    "elif total_price <=7000:\n",
    "    discount = total_price*.05\n",
    "    print(\"discount will be\", discount)\n",
    "else:\n",
    "    print(\"wont be able to give any discount\")"
   ]
  },
  {
   "cell_type": "code",
   "execution_count": null,
   "id": "1a214117",
   "metadata": {},
   "outputs": [],
   "source": []
  }
 ],
 "metadata": {
  "kernelspec": {
   "display_name": "Python 3 (ipykernel)",
   "language": "python",
   "name": "python3"
  },
  "language_info": {
   "codemirror_mode": {
    "name": "ipython",
    "version": 3
   },
   "file_extension": ".py",
   "mimetype": "text/x-python",
   "name": "python",
   "nbconvert_exporter": "python",
   "pygments_lexer": "ipython3",
   "version": "3.9.13"
  }
 },
 "nbformat": 4,
 "nbformat_minor": 5
}
